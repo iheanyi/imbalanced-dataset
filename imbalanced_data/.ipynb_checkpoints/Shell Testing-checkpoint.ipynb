{
 "metadata": {
  "name": "",
  "signature": "sha256:10af4d7de1cb64145d70885e149259619400e7b6cee250ec0ccce99d56e75c66"
 },
 "nbformat": 3,
 "nbformat_minor": 0,
 "worksheets": [
  {
   "cells": [
    {
     "cell_type": "code",
     "collapsed": false,
     "input": [
      "\n",
      "print Analysis.objects.all()\n",
      "print Analysis._meta.get_all_field_names()\n",
      "\n",
      "item =  Analysis.objects.get(pk=37)\n",
      "print item\n",
      "#print item.outputs"
     ],
     "language": "python",
     "metadata": {},
     "outputs": [
      {
       "output_type": "stream",
       "stream": "stdout",
       "text": [
        "[<Analysis: Analysis: 1>, <Analysis: Analysis: 2>, <Analysis: Testing>, <Analysis: Testing>, <Analysis: Testing>, <Analysis: Testing>, <Analysis: Testing>, <Analysis: Testing>, <Analysis: Testing>, <Analysis: Testing>, <Analysis: Testing>, <Analysis: Testing>, <Analysis: Testing>, <Analysis: Testing>, <Analysis: Testing>, <Analysis: Testing>, <Analysis: Test Stuff>, <Analysis: Just a Sample>, <Analysis: Testing This>, <Analysis: Testing>, '...(remaining elements truncated)...']\n",
        "['classifiers', 'completed', 'created', 'dataset', u'dataset_id', 'description', 'has_header', u'id', 'ignore_first', 'modified', 'pos_label', 'test_outputs', 'title']\n",
        "asdfdsfsd\n"
       ]
      },
      {
       "ename": "StopIteration",
       "evalue": "",
       "output_type": "pyerr",
       "traceback": [
        "\u001b[0;31m---------------------------------------------------------------------------\u001b[0m\n\u001b[0;31mStopIteration\u001b[0m                             Traceback (most recent call last)",
        "\u001b[0;32m<ipython-input-1-dfd5e05a09b3>\u001b[0m in \u001b[0;36m<module>\u001b[0;34m()\u001b[0m\n\u001b[1;32m      6\u001b[0m \u001b[0;32mprint\u001b[0m \u001b[0mitem\u001b[0m\u001b[0;34m\u001b[0m\u001b[0m\n\u001b[1;32m      7\u001b[0m \u001b[0;31m#print item.outputs\u001b[0m\u001b[0;34m\u001b[0m\u001b[0;34m\u001b[0m\u001b[0m\n\u001b[0;32m----> 8\u001b[0;31m \u001b[0;32mprint\u001b[0m \u001b[0mitem\u001b[0m\u001b[0;34m.\u001b[0m\u001b[0mtest_outputs\u001b[0m\u001b[0;34m\u001b[0m\u001b[0m\n\u001b[0m\u001b[1;32m      9\u001b[0m \u001b[0;32mprint\u001b[0m \u001b[0mitem\u001b[0m\u001b[0;34m[\u001b[0m\u001b[0;34m'outputs'\u001b[0m\u001b[0;34m]\u001b[0m\u001b[0;34m\u001b[0m\u001b[0m\n",
        "\u001b[0;32m/Volumes/Storage/Users/iheanyi/.virtualenvs/imbalanced_data/lib/python2.7/site-packages/django/utils/encoding.pyc\u001b[0m in \u001b[0;36m<lambda>\u001b[0;34m(self)\u001b[0m\n\u001b[1;32m     36\u001b[0m                              klass.__name__)\n\u001b[1;32m     37\u001b[0m         \u001b[0mklass\u001b[0m\u001b[0;34m.\u001b[0m\u001b[0m__unicode__\u001b[0m \u001b[0;34m=\u001b[0m \u001b[0mklass\u001b[0m\u001b[0;34m.\u001b[0m\u001b[0m__str__\u001b[0m\u001b[0;34m\u001b[0m\u001b[0m\n\u001b[0;32m---> 38\u001b[0;31m         \u001b[0mklass\u001b[0m\u001b[0;34m.\u001b[0m\u001b[0m__str__\u001b[0m \u001b[0;34m=\u001b[0m \u001b[0;32mlambda\u001b[0m \u001b[0mself\u001b[0m\u001b[0;34m:\u001b[0m \u001b[0mself\u001b[0m\u001b[0;34m.\u001b[0m\u001b[0m__unicode__\u001b[0m\u001b[0;34m(\u001b[0m\u001b[0;34m)\u001b[0m\u001b[0;34m.\u001b[0m\u001b[0mencode\u001b[0m\u001b[0;34m(\u001b[0m\u001b[0;34m'utf-8'\u001b[0m\u001b[0;34m)\u001b[0m\u001b[0;34m\u001b[0m\u001b[0m\n\u001b[0m\u001b[1;32m     39\u001b[0m     \u001b[0;32mreturn\u001b[0m \u001b[0mklass\u001b[0m\u001b[0;34m\u001b[0m\u001b[0m\n\u001b[1;32m     40\u001b[0m \u001b[0;34m\u001b[0m\u001b[0m\n",
        "\u001b[0;32m/Volumes/Storage/Users/iheanyi/.virtualenvs/imbalanced_data/lib/python2.7/site-packages/django/db/models/manager.pyc\u001b[0m in \u001b[0;36m__str__\u001b[0;34m(self)\u001b[0m\n\u001b[1;32m     79\u001b[0m         \u001b[0mapp\u001b[0m \u001b[0;34m=\u001b[0m \u001b[0mmodel\u001b[0m\u001b[0;34m.\u001b[0m\u001b[0m_meta\u001b[0m\u001b[0;34m.\u001b[0m\u001b[0mapp_label\u001b[0m\u001b[0;34m\u001b[0m\u001b[0m\n\u001b[1;32m     80\u001b[0m         manager_name = next(name for (_, name, manager)\n\u001b[0;32m---> 81\u001b[0;31m             \u001b[0;32min\u001b[0m \u001b[0mopts\u001b[0m\u001b[0;34m.\u001b[0m\u001b[0mconcrete_managers\u001b[0m \u001b[0;34m+\u001b[0m \u001b[0mopts\u001b[0m\u001b[0;34m.\u001b[0m\u001b[0mabstract_managers\u001b[0m\u001b[0;34m\u001b[0m\u001b[0m\n\u001b[0m\u001b[1;32m     82\u001b[0m             if manager == self)\n\u001b[1;32m     83\u001b[0m         \u001b[0;32mreturn\u001b[0m \u001b[0;34m'%s.%s.%s'\u001b[0m \u001b[0;34m%\u001b[0m \u001b[0;34m(\u001b[0m\u001b[0mapp\u001b[0m\u001b[0;34m,\u001b[0m \u001b[0mmodel\u001b[0m\u001b[0;34m.\u001b[0m\u001b[0m_meta\u001b[0m\u001b[0;34m.\u001b[0m\u001b[0mobject_name\u001b[0m\u001b[0;34m,\u001b[0m \u001b[0mmanager_name\u001b[0m\u001b[0;34m)\u001b[0m\u001b[0;34m\u001b[0m\u001b[0m\n",
        "\u001b[0;31mStopIteration\u001b[0m: "
       ]
      }
     ],
     "prompt_number": 1
    },
    {
     "cell_type": "code",
     "collapsed": false,
     "input": [
      "execute_algorithm(37)"
     ],
     "language": "python",
     "metadata": {},
     "outputs": [
      {
       "output_type": "stream",
       "stream": "stdout",
       "text": [
        "Analysis Executed with the following id: 37\n",
        "asdfdsfsd\n",
        "sdfd [<Classifier: kNN>, <Classifier: SGD>, <Classifier: Bagging>] /files/datasets/breast-cancer_EKTk2SE.csv\n",
        "File doesn't have header.\n",
        "0 int64\n",
        "1 int64\n",
        "2 int64\n",
        "3 int64\n",
        "4 int64\n",
        "5 int64\n",
        "6 object\n",
        "Found an object\n",
        "7 int64\n",
        "8 int64\n",
        "9 int64\n",
        "10 int64\n",
        "0     int64\n",
        "1     int64\n",
        "2     int64\n",
        "3     int64\n",
        "4     int64\n",
        "5     int64\n",
        "7     int64\n",
        "8     int64\n",
        "9     int64\n",
        "10    int64\n",
        "dtype: object\n",
        "Int64Index([0, 1, 2, 3, 4, 5, 7, 8, 9, 10], dtype='int64')\n",
        "Size is: 9\n",
        "Counter({2: 457, 4: 241})\n",
        "2\n",
        "(467, 8)\n",
        "(231, 8)\n",
        "Executing the classifier now\n",
        "Executing kNN\n",
        "Counter({2: 149, 4: 82})\n",
        "Size is: 9\n",
        "Counter({2: 457, 4: 241})\n",
        "2\n",
        "(467, 8)\n",
        "(231, 8)\n",
        "Executing the classifier now\n",
        "Executing Stochastic Gradient Descent\n",
        "Counter({2: 147, 4: 84})"
       ]
      },
      {
       "output_type": "stream",
       "stream": "stdout",
       "text": [
        "\n",
        "Size is: 9\n",
        "Counter({2: 457, 4: 241})\n",
        "2\n",
        "(467, 8)\n",
        "(231, 8)\n",
        "Executing the classifier now\n",
        "Executing Bagging\n",
        "Counter({2: 151, 4: 80})\n"
       ]
      }
     ],
     "prompt_number": 1
    },
    {
     "cell_type": "code",
     "collapsed": false,
     "input": [],
     "language": "python",
     "metadata": {},
     "outputs": [],
     "prompt_number": 0
    },
    {
     "cell_type": "code",
     "collapsed": false,
     "input": [],
     "language": "python",
     "metadata": {},
     "outputs": [],
     "prompt_number": 0
    },
    {
     "cell_type": "code",
     "collapsed": false,
     "input": [],
     "language": "python",
     "metadata": {},
     "outputs": [],
     "prompt_number": 0
    },
    {
     "cell_type": "code",
     "collapsed": false,
     "input": [],
     "language": "python",
     "metadata": {},
     "outputs": []
    }
   ],
   "metadata": {}
  }
 ]
}
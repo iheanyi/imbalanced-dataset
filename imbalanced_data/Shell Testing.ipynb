{
 "metadata": {
  "name": "",
  "signature": "sha256:c1c67fe48ab8399f0225408df1292424c28628e45b48bddc30887afe060d31a1"
 },
 "nbformat": 3,
 "nbformat_minor": 0,
 "worksheets": [
  {
   "cells": [
    {
     "cell_type": "code",
     "collapsed": false,
     "input": [
      "\n",
      "print Analysis.objects.all()\n",
      "print Analysis._meta.get_all_field_names()\n",
      "\n",
      "item =  Analysis.objects.get(pk=38)\n",
      "print item\n",
      "#print item.outputs"
     ],
     "language": "python",
     "metadata": {},
     "outputs": [
      {
       "output_type": "stream",
       "stream": "stdout",
       "text": [
        "[<Analysis: Sample Test #1>]\n",
        "['classifiers', 'completed', 'created', 'dataset', u'dataset_id', 'description', 'has_header', u'id', 'ignore_first', 'modified', 'pos_label', 'test_outputs', 'title']\n",
        "Sample Test #1\n"
       ]
      }
     ],
     "prompt_number": 1
    },
    {
     "cell_type": "code",
     "collapsed": false,
     "input": [
      "execute_algorithm(38)"
     ],
     "language": "python",
     "metadata": {},
     "outputs": []
    },
    {
     "cell_type": "code",
     "collapsed": false,
     "input": [
      "execute_algorithm(39)"
     ],
     "language": "python",
     "metadata": {},
     "outputs": []
    },
    {
     "cell_type": "code",
     "collapsed": false,
     "input": [
      "execute_algorithm(37)"
     ],
     "language": "python",
     "metadata": {},
     "outputs": []
    },
    {
     "cell_type": "code",
     "collapsed": false,
     "input": [],
     "language": "python",
     "metadata": {},
     "outputs": [],
     "prompt_number": 0
    },
    {
     "cell_type": "code",
     "collapsed": false,
     "input": [],
     "language": "python",
     "metadata": {},
     "outputs": []
    }
   ],
   "metadata": {}
  }
 ]
}